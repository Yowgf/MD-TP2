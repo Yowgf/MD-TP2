{
 "cells": [
  {
   "cell_type": "markdown",
   "metadata": {},
   "source": [
    "### Este notebook contem todo o processo de mineração do dataset de casas em King County, EUA"
   ]
  },
  {
   "cell_type": "markdown",
   "metadata": {},
   "source": [
    "#### Carregamento dos dados"
   ]
  },
  {
   "cell_type": "code",
   "execution_count": 1,
   "metadata": {},
   "outputs": [],
   "source": [
    "from pysrc.loading import *"
   ]
  },
  {
   "cell_type": "code",
   "execution_count": 2,
   "metadata": {
    "scrolled": true
   },
   "outputs": [
    {
     "data": {
      "text/html": [
       "<div>\n",
       "<style scoped>\n",
       "    .dataframe tbody tr th:only-of-type {\n",
       "        vertical-align: middle;\n",
       "    }\n",
       "\n",
       "    .dataframe tbody tr th {\n",
       "        vertical-align: top;\n",
       "    }\n",
       "\n",
       "    .dataframe thead th {\n",
       "        text-align: right;\n",
       "    }\n",
       "</style>\n",
       "<table border=\"1\" class=\"dataframe\">\n",
       "  <thead>\n",
       "    <tr style=\"text-align: right;\">\n",
       "      <th></th>\n",
       "      <th>id</th>\n",
       "      <th>date</th>\n",
       "      <th>price</th>\n",
       "      <th>bedrooms</th>\n",
       "      <th>bathrooms</th>\n",
       "      <th>sqft_living</th>\n",
       "      <th>sqft_lot</th>\n",
       "      <th>floors</th>\n",
       "      <th>waterfront</th>\n",
       "      <th>view</th>\n",
       "      <th>...</th>\n",
       "      <th>grade</th>\n",
       "      <th>sqft_above</th>\n",
       "      <th>sqft_basement</th>\n",
       "      <th>yr_built</th>\n",
       "      <th>yr_renovated</th>\n",
       "      <th>zipcode</th>\n",
       "      <th>lat</th>\n",
       "      <th>long</th>\n",
       "      <th>sqft_living15</th>\n",
       "      <th>sqft_lot15</th>\n",
       "    </tr>\n",
       "  </thead>\n",
       "  <tbody>\n",
       "    <tr>\n",
       "      <th>13423</th>\n",
       "      <td>622100074</td>\n",
       "      <td>20141110T000000</td>\n",
       "      <td>720000</td>\n",
       "      <td>3</td>\n",
       "      <td>2.75</td>\n",
       "      <td>2440</td>\n",
       "      <td>76531</td>\n",
       "      <td>1.0</td>\n",
       "      <td>0</td>\n",
       "      <td>0</td>\n",
       "      <td>...</td>\n",
       "      <td>10</td>\n",
       "      <td>1640</td>\n",
       "      <td>800</td>\n",
       "      <td>1980</td>\n",
       "      <td>0</td>\n",
       "      <td>98072</td>\n",
       "      <td>47.7672</td>\n",
       "      <td>-122.161</td>\n",
       "      <td>1890</td>\n",
       "      <td>10042</td>\n",
       "    </tr>\n",
       "    <tr>\n",
       "      <th>12680</th>\n",
       "      <td>925069123</td>\n",
       "      <td>20150318T000000</td>\n",
       "      <td>590000</td>\n",
       "      <td>3</td>\n",
       "      <td>1.00</td>\n",
       "      <td>1610</td>\n",
       "      <td>58370</td>\n",
       "      <td>1.0</td>\n",
       "      <td>0</td>\n",
       "      <td>0</td>\n",
       "      <td>...</td>\n",
       "      <td>7</td>\n",
       "      <td>1610</td>\n",
       "      <td>0</td>\n",
       "      <td>1978</td>\n",
       "      <td>0</td>\n",
       "      <td>98053</td>\n",
       "      <td>47.6718</td>\n",
       "      <td>-122.044</td>\n",
       "      <td>2510</td>\n",
       "      <td>58127</td>\n",
       "    </tr>\n",
       "    <tr>\n",
       "      <th>18393</th>\n",
       "      <td>3879901285</td>\n",
       "      <td>20150326T000000</td>\n",
       "      <td>1230000</td>\n",
       "      <td>3</td>\n",
       "      <td>2.50</td>\n",
       "      <td>2660</td>\n",
       "      <td>1967</td>\n",
       "      <td>3.0</td>\n",
       "      <td>0</td>\n",
       "      <td>3</td>\n",
       "      <td>...</td>\n",
       "      <td>9</td>\n",
       "      <td>1870</td>\n",
       "      <td>790</td>\n",
       "      <td>2007</td>\n",
       "      <td>0</td>\n",
       "      <td>98119</td>\n",
       "      <td>47.6264</td>\n",
       "      <td>-122.363</td>\n",
       "      <td>1640</td>\n",
       "      <td>1369</td>\n",
       "    </tr>\n",
       "    <tr>\n",
       "      <th>5281</th>\n",
       "      <td>1126059007</td>\n",
       "      <td>20150323T000000</td>\n",
       "      <td>865000</td>\n",
       "      <td>3</td>\n",
       "      <td>2.25</td>\n",
       "      <td>2670</td>\n",
       "      <td>150270</td>\n",
       "      <td>2.0</td>\n",
       "      <td>0</td>\n",
       "      <td>0</td>\n",
       "      <td>...</td>\n",
       "      <td>9</td>\n",
       "      <td>2670</td>\n",
       "      <td>0</td>\n",
       "      <td>1985</td>\n",
       "      <td>0</td>\n",
       "      <td>98072</td>\n",
       "      <td>47.7601</td>\n",
       "      <td>-122.134</td>\n",
       "      <td>3080</td>\n",
       "      <td>81054</td>\n",
       "    </tr>\n",
       "    <tr>\n",
       "      <th>12577</th>\n",
       "      <td>2806300065</td>\n",
       "      <td>20150422T000000</td>\n",
       "      <td>1960000</td>\n",
       "      <td>4</td>\n",
       "      <td>4.00</td>\n",
       "      <td>4430</td>\n",
       "      <td>31353</td>\n",
       "      <td>2.0</td>\n",
       "      <td>0</td>\n",
       "      <td>0</td>\n",
       "      <td>...</td>\n",
       "      <td>12</td>\n",
       "      <td>4430</td>\n",
       "      <td>0</td>\n",
       "      <td>1998</td>\n",
       "      <td>0</td>\n",
       "      <td>98005</td>\n",
       "      <td>47.6422</td>\n",
       "      <td>-122.157</td>\n",
       "      <td>3900</td>\n",
       "      <td>35237</td>\n",
       "    </tr>\n",
       "  </tbody>\n",
       "</table>\n",
       "<p>5 rows × 21 columns</p>\n",
       "</div>"
      ],
      "text/plain": [
       "               id             date    price  bedrooms  bathrooms  sqft_living  \\\n",
       "13423   622100074  20141110T000000   720000         3       2.75         2440   \n",
       "12680   925069123  20150318T000000   590000         3       1.00         1610   \n",
       "18393  3879901285  20150326T000000  1230000         3       2.50         2660   \n",
       "5281   1126059007  20150323T000000   865000         3       2.25         2670   \n",
       "12577  2806300065  20150422T000000  1960000         4       4.00         4430   \n",
       "\n",
       "       sqft_lot  floors  waterfront  view  ...  grade  sqft_above  \\\n",
       "13423     76531     1.0           0     0  ...     10        1640   \n",
       "12680     58370     1.0           0     0  ...      7        1610   \n",
       "18393      1967     3.0           0     3  ...      9        1870   \n",
       "5281     150270     2.0           0     0  ...      9        2670   \n",
       "12577     31353     2.0           0     0  ...     12        4430   \n",
       "\n",
       "       sqft_basement  yr_built  yr_renovated  zipcode      lat     long  \\\n",
       "13423            800      1980             0    98072  47.7672 -122.161   \n",
       "12680              0      1978             0    98053  47.6718 -122.044   \n",
       "18393            790      2007             0    98119  47.6264 -122.363   \n",
       "5281               0      1985             0    98072  47.7601 -122.134   \n",
       "12577              0      1998             0    98005  47.6422 -122.157   \n",
       "\n",
       "       sqft_living15  sqft_lot15  \n",
       "13423           1890       10042  \n",
       "12680           2510       58127  \n",
       "18393           1640        1369  \n",
       "5281            3080       81054  \n",
       "12577           3900       35237  \n",
       "\n",
       "[5 rows x 21 columns]"
      ]
     },
     "execution_count": 2,
     "metadata": {},
     "output_type": "execute_result"
    }
   ],
   "source": [
    "dataframe.sample(5)"
   ]
  },
  {
   "cell_type": "code",
   "execution_count": 3,
   "metadata": {},
   "outputs": [
    {
     "name": "stdout",
     "output_type": "stream",
     "text": [
      "21 colunas\n",
      "['id', 'date', 'price', 'bedrooms', 'bathrooms', 'sqft_living', 'sqft_lot', 'floors', 'waterfront', 'view', 'condition', 'grade', 'sqft_above', 'sqft_basement', 'yr_built', 'yr_renovated', 'zipcode', 'lat', 'long', 'sqft_living15', 'sqft_lot15']\n"
     ]
    }
   ],
   "source": [
    "# Colunas da base de dados, inicialmente\n",
    "showInitialCols()"
   ]
  },
  {
   "cell_type": "markdown",
   "metadata": {},
   "source": [
    "## Preprocessamento"
   ]
  },
  {
   "cell_type": "code",
   "execution_count": 4,
   "metadata": {},
   "outputs": [],
   "source": [
    "from pysrc.preprocessing import *"
   ]
  },
  {
   "cell_type": "markdown",
   "metadata": {},
   "source": [
    "#### Remover colunas que não nos interessam\n",
    "\n",
    "As colunas removidas são impressas abaixo"
   ]
  },
  {
   "cell_type": "code",
   "execution_count": 5,
   "metadata": {},
   "outputs": [],
   "source": [
    "dropUselessCols()"
   ]
  },
  {
   "cell_type": "code",
   "execution_count": 6,
   "metadata": {},
   "outputs": [
    {
     "name": "stdout",
     "output_type": "stream",
     "text": [
      "16 colunas restantes\n",
      "Removidas  ['id', 'date', 'zipcode', 'lat', 'long']\n",
      "\n",
      " ['price', 'bedrooms', 'bathrooms', 'sqft_living', 'sqft_lot', 'floors', 'waterfront', 'view', 'condition', 'grade', 'sqft_above', 'sqft_basement', 'yr_built', 'yr_renovated', 'sqft_living15', 'sqft_lot15']\n"
     ]
    }
   ],
   "source": [
    "# Colunas restantes\n",
    "showFinalCols()"
   ]
  },
  {
   "cell_type": "markdown",
   "metadata": {},
   "source": [
    "#### Verificar qualidade dos dados restantes"
   ]
  },
  {
   "cell_type": "code",
   "execution_count": 7,
   "metadata": {},
   "outputs": [
    {
     "name": "stdout",
     "output_type": "stream",
     "text": [
      "Zero valores faltantes\n",
      "Todos os valores sao nao-negativos\n",
      "Anos de contrucao entre 1900 e 2015\n",
      "Ano de renovacao >= ano de contrucao\n",
      "Ano de renovacao <= 2015\n"
     ]
    }
   ],
   "source": [
    "# Checando premissas fundamentais sobre os atributos\n",
    "# Valores nao mencionados abaixo foram checados individualmente\n",
    "# Nao pensei der necessario inclui-los abaixo\n",
    "checkDataRanges()"
   ]
  },
  {
   "cell_type": "markdown",
   "metadata": {},
   "source": [
    "#### Aplicar algumas tranformações convenientes"
   ]
  },
  {
   "cell_type": "code",
   "execution_count": 8,
   "metadata": {},
   "outputs": [],
   "source": [
    "# Substituir casos em que yr_renovated é igual a zero pelo ano\n",
    "#   de construção da casa.\n",
    "affectedInstances = dataframe[dataframe[\"yr_renovated\"] == 0].index\n",
    "dataframe.loc[affectedInstances, \"yr_renovated\"] = dataframe.loc[affectedInstances, \"yr_built\"]"
   ]
  },
  {
   "cell_type": "code",
   "execution_count": 14,
   "metadata": {},
   "outputs": [],
   "source": [
    "# Normalizar dataframe por tecnica Min-Max\n",
    "normalize"
   ]
  },
  {
   "cell_type": "code",
   "execution_count": 9,
   "metadata": {},
   "outputs": [],
   "source": [
    "# Categorizar tamanhos\n"
   ]
  }
 ],
 "metadata": {
  "kernelspec": {
   "display_name": "Python 3",
   "language": "python",
   "name": "python3"
  },
  "language_info": {
   "codemirror_mode": {
    "name": "ipython",
    "version": 3
   },
   "file_extension": ".py",
   "mimetype": "text/x-python",
   "name": "python",
   "nbconvert_exporter": "python",
   "pygments_lexer": "ipython3",
   "version": "3.8.5"
  }
 },
 "nbformat": 4,
 "nbformat_minor": 4
}
